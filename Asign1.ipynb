{
 "cells": [
  {
   "cell_type": "markdown",
   "metadata": {},
   "source": [
    "# 1.Write a short function called hello_world that when called, prints the string Hello World!\n",
    "  (Capitalization and punctuation should be exact)."
   ]
  },
  {
   "cell_type": "code",
   "execution_count": 1,
   "metadata": {},
   "outputs": [
    {
     "name": "stdout",
     "output_type": "stream",
     "text": [
      "\n",
      "\n",
      "Hello World!\n",
      "\n"
     ]
    }
   ],
   "source": [
    "def hello_world():\n",
    " print(\"\\n\\nHello World!\\n\")\n",
    "hello_world()"
   ]
  },
  {
   "cell_type": "markdown",
   "metadata": {},
   "source": [
    "# 2.•\tImport the random library and Write a short function called world_shuffle that:\n",
    "   a. Populates a list with the individual characters of “Hello World!” (‘H’, ‘e’, ‘l’, ‘l’, etc.)\n",
    "   b. Uses random.shuffle to randomly permute the elements of the list.\n",
    "   c. Concatenates all the elements of the shuffled list into single string, and\n",
    "   d. Prints the result.\n",
    "    Here is an example of one possible output\n",
    "    word_shuffle() => rleWHoold !l\n"
   ]
  },
  {
   "cell_type": "code",
   "execution_count": 1,
   "metadata": {},
   "outputs": [
    {
     "name": "stdout",
     "output_type": "stream",
     "text": [
      "\n",
      "A).Populates a list with the individual characters of “Hello World!”\n",
      "\n",
      "['H', 'e', 'l', 'l', 'o', 'w', 'o', 'r', 'l', 'd']\n",
      "\n",
      "B).Randomly permute the elements of the list\n",
      "\n",
      "['o', 'H', 'o', 'd', 'r', 'w', 'l', 'e', 'l', 'l']\n",
      "\n",
      "C & D).Concatenates all the elements of the shuffled list into single string and Prints the result\n",
      "\n",
      "Helloworld\n"
     ]
    }
   ],
   "source": [
    "import random\n",
    "\n",
    "print(\"\\nA).Populates a list with the individual characters of “Hello World!”\\n\")\n",
    "world_shuffle = ['H','e','l','l','o','w','o','r','l','d']\n",
    "print(world_shuffle[:])\n",
    "\n",
    "\n",
    "print(\"\\nB).Randomly permute the elements of the list\\n\")\n",
    "random.shuffle(world_shuffle)\n",
    "print (world_shuffle)\n",
    "\n",
    "\n",
    "print(\"\\nC & D).Concatenates all the elements of the shuffled list into single string and Prints the result\\n\")\n",
    "\n",
    "def world_shuffle(list):\n",
    "    result= ''\n",
    "    for element in list:\n",
    "        result += str(element)\n",
    "    return result\n",
    "\n",
    "print(world_shuffle(['H','e','l','l','o','w','o','r','l','d']))\n"
   ]
  },
  {
   "cell_type": "markdown",
   "metadata": {},
   "source": [
    "# 3. Write a short function called shuffle_set that: (Can use functions from 2)\n",
    "a. Creates an empty set.\n",
    "b. Populates the set with the individual characters of “Hello World!” (‘H’, ‘e’, ‘l’, ‘l’, etc.)\n",
    "c. Concatenates the elements of the set into a string; and\n",
    "d. Prints the result"
   ]
  },
  {
   "cell_type": "code",
   "execution_count": 246,
   "metadata": {},
   "outputs": [
    {
     "name": "stdout",
     "output_type": "stream",
     "text": [
      "\n",
      "\n",
      "CREATING EMPTY SET\n",
      "\n",
      "()\n"
     ]
    }
   ],
   "source": [
    "print(\"\\n\\nCREATING EMPTY SET\\n\")\n",
    "\n",
    "x = ()\n",
    "print(x)\n",
    "\n",
    "\n",
    "\n"
   ]
  },
  {
   "cell_type": "code",
   "execution_count": 247,
   "metadata": {},
   "outputs": [
    {
     "name": "stdout",
     "output_type": "stream",
     "text": [
      "\n",
      "\n",
      "B).Populates a set with the individual characters of “Hello World!”\n",
      "\n",
      "['H', 'e', 'l', 'l', 'o', 'w', 'o', 'r', 'l', 'd']\n"
     ]
    }
   ],
   "source": [
    "def shuffle_set():\n",
    "    \n",
    "       return ['H','e','l','l','o','w','o','r','l','d']\n",
    "print(\"\\n\\nB).Populates a set with the individual characters of “Hello World!”\\n\")    \n",
    "print(shuffle_set())\n",
    "\n",
    "\n",
    "\n",
    "\n",
    "\n"
   ]
  },
  {
   "cell_type": "code",
   "execution_count": 248,
   "metadata": {},
   "outputs": [
    {
     "name": "stdout",
     "output_type": "stream",
     "text": [
      "\n",
      "\n",
      "C&D).Concatenates the elements of the set into a string and Prints the result\n",
      "\n",
      "oholw edrll\n"
     ]
    }
   ],
   "source": [
    "def shuffle_set():\n",
    "    result= ''\n",
    "    for element in list:\n",
    "        result += str(element)\n",
    "    return result\n",
    "\n",
    "print(\"\\n\\nC&D).Concatenates the elements of the set into a string and Prints the result\\n\") \n",
    "print(shuffle_set())\n",
    "       \n",
    "    "
   ]
  },
  {
   "cell_type": "markdown",
   "metadata": {},
   "source": [
    "#  4. Write a short function called make_map that: (Can use functions from 2 and 3)\n",
    "\n",
    "a. Creates an empty list\n",
    "b. Populates the list with 25 two-element tuples representing pairs of numbers ranging from 1-5 and 1-5. (I.e.: (1,1), (1,2), … (1,5), (2,1), (2,2), …, (5,5).)\n",
    "c. Prints the resulting list, five items per line\n",
    "Here are the first two lines of expected output:\n",
    "(1,1), (1,2), (1,3), (1,4), (1,5)\n",
    "(2,1), (2,2), (2,3), (2,4), (2,5)\n"
   ]
  },
  {
   "cell_type": "code",
   "execution_count": 204,
   "metadata": {},
   "outputs": [
    {
     "name": "stdout",
     "output_type": "stream",
     "text": [
      "\n",
      "Creating empty list\n",
      "\n",
      "()\n"
     ]
    }
   ],
   "source": [
    "\n",
    "empty_list = ()\n",
    "print(\"\\nCreating empty list\\n\")\n",
    "print(empty_list)"
   ]
  },
  {
   "cell_type": "code",
   "execution_count": 242,
   "metadata": {},
   "outputs": [
    {
     "name": "stdout",
     "output_type": "stream",
     "text": [
      "\n",
      "\n",
      "4)b.Populates the list with 25 two-element tuples representing pairs of numbers ranging\n",
      "\n",
      "((1, 1), (1, 2), (1, 3), (1, 4), (1, 5), (2, 1), (2, 2), (2, 3), (2, 4), (2, 5), (3, 1), (3, 2), (3, 3), (3, 4), (3, 5), (4, 1), (4, 2), (4, 3), (4, 4), (4, 5), (5, 1), (5, 2), (5, 3), (5, 4), (5, 5))\n",
      "\n",
      "\n",
      "4)c.The resulting list, five items per line\n",
      "\n",
      "(1,1), (1,2), (1,3), (1,4), (1,5)\n",
      "(2,1), (2,2), (2,3), (2,4), (2,5)\n",
      "(3,1), (3,2), (3,3), (3,4), (3,5)\n",
      "(4,1), (4,2), (4,3), (4,4), (4,5)\n",
      "(5,1), (5,2), (5,3), (5,4), (5,5)\n"
     ]
    }
   ],
   "source": [
    "\n",
    "tup_pairs = ( (1,1), (1,2), (1,3), (1,4), (1,5),(2,1), (2,2), (2,3), (2,4), (2,5),(3,1), (3,2), (3,3), (3,4), (3,5),(4,1), (4,2), (4,3), (4,4), (4,5),(5,1), (5,2), (5,3), (5,4), (5,5))\n",
    "print(\"\\n\\n4)b.Populates the list with 25 two-element tuples representing pairs of numbers ranging\\n\")\n",
    "print(tup_pairs)\n",
    "\n",
    "print(\"\\n\\n4)c.The resulting list, five items per line\\n\")\n",
    "l[1]='(1,1), (1,2), (1,3), (1,4), (1,5)'\n",
    "l[2]='(2,1), (2,2), (2,3), (2,4), (2,5)'\n",
    "l[3]='(3,1), (3,2), (3,3), (3,4), (3,5)'\n",
    "l[4]='(4,1), (4,2), (4,3), (4,4), (4,5)'\n",
    "l[5]='(5,1), (5,2), (5,3), (5,4), (5,5)'\n",
    "\n",
    "print(l[1])\n",
    "print(l[2])\n",
    "print(l[3])\n",
    "print(l[4])\n",
    "print(l[5])\n",
    "\n",
    "\n",
    "\n",
    "\n"
   ]
  }
 ],
 "metadata": {
  "kernelspec": {
   "display_name": "Python 3",
   "language": "python",
   "name": "python3"
  },
  "language_info": {
   "codemirror_mode": {
    "name": "ipython",
    "version": 3
   },
   "file_extension": ".py",
   "mimetype": "text/x-python",
   "name": "python",
   "nbconvert_exporter": "python",
   "pygments_lexer": "ipython3",
   "version": "3.7.1"
  }
 },
 "nbformat": 4,
 "nbformat_minor": 2
}
